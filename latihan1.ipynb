{
  "nbformat": 4,
  "nbformat_minor": 0,
  "metadata": {
    "colab": {
      "provenance": [],
      "authorship_tag": "ABX9TyNoO42phgAZV0z/ZoPh4r5x",
      "include_colab_link": true
    },
    "kernelspec": {
      "name": "python3",
      "display_name": "Python 3"
    },
    "language_info": {
      "name": "python"
    }
  },
  "cells": [
    {
      "cell_type": "markdown",
      "metadata": {
        "id": "view-in-github",
        "colab_type": "text"
      },
      "source": [
        "<a href=\"https://colab.research.google.com/github/devanaazzahra/Data-Mining-Lanjut/blob/main/latihan1.ipynb\" target=\"_parent\"><img src=\"https://colab.research.google.com/assets/colab-badge.svg\" alt=\"Open In Colab\"/></a>"
      ]
    },
    {
      "cell_type": "code",
      "execution_count": 1,
      "metadata": {
        "colab": {
          "base_uri": "https://localhost:8080/"
        },
        "id": "IcnX8K1h-phc",
        "outputId": "8abb7eb2-6eda-48e0-ed38-1a8703852d00"
      },
      "outputs": [
        {
          "output_type": "stream",
          "name": "stdout",
          "text": [
            "Hello, world!\n"
          ]
        }
      ],
      "source": [
        "print('Hello, world!')"
      ]
    },
    {
      "cell_type": "code",
      "source": [
        "n = int(input('Ketik sebuah angka, dan faktorialnya akan diprinted: '))\n",
        "\n",
        "if n < 0:\n",
        "  raise ValueError('Anda harus memasukkan bilangan bulat bukan negatif')\n",
        "\n",
        "faktorial = 1\n",
        "\n",
        "for i in range(2, n+1):\n",
        "  faktorial *= i\n",
        "\n",
        "print(faktorial)"
      ],
      "metadata": {
        "colab": {
          "base_uri": "https://localhost:8080/"
        },
        "id": "oR9YDClu-1ZF",
        "outputId": "a603010e-c1e4-43d3-8665-de76bd56f89c"
      },
      "execution_count": 2,
      "outputs": [
        {
          "output_type": "stream",
          "name": "stdout",
          "text": [
            "Ketik sebuah angka, dan faktorialnya akan diprinted: 3\n",
            "6\n"
          ]
        }
      ]
    },
    {
      "cell_type": "code",
      "source": [
        "class Orang:\n",
        "  def __init__(self, nama):\n",
        "    self.nama = nama\n",
        "\n",
        "  def tampilkan_nama(self):\n",
        "    return self.nama\n",
        "\n",
        "orang = Orang(\"Test UMB\")\n",
        "\n",
        "print(orang.tampilkan_nama())"
      ],
      "metadata": {
        "colab": {
          "base_uri": "https://localhost:8080/"
        },
        "id": "J53FBKvg_bT4",
        "outputId": "d5e9497e-4663-4abc-eb10-5a46359e3023"
      },
      "execution_count": 3,
      "outputs": [
        {
          "output_type": "stream",
          "name": "stdout",
          "text": [
            "Test UMB\n"
          ]
        }
      ]
    }
  ]
}