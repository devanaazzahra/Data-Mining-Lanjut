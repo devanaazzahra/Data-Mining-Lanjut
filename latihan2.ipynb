{
  "nbformat": 4,
  "nbformat_minor": 0,
  "metadata": {
    "colab": {
      "provenance": [],
      "authorship_tag": "ABX9TyN1wUx7FxwxdWnvMIG03HF/",
      "include_colab_link": true
    },
    "kernelspec": {
      "name": "python3",
      "display_name": "Python 3"
    },
    "language_info": {
      "name": "python"
    }
  },
  "cells": [
    {
      "cell_type": "markdown",
      "metadata": {
        "id": "view-in-github",
        "colab_type": "text"
      },
      "source": [
        "<a href=\"https://colab.research.google.com/github/devanaazzahra/Data-Mining-Lanjut/blob/main/latihan2.ipynb\" target=\"_parent\"><img src=\"https://colab.research.google.com/assets/colab-badge.svg\" alt=\"Open In Colab\"/></a>"
      ]
    },
    {
      "cell_type": "code",
      "execution_count": 15,
      "metadata": {
        "colab": {
          "base_uri": "https://localhost:8080/"
        },
        "id": "prkiMH3yW7HQ",
        "outputId": "70013540-17f7-454e-a32b-7970452d7948"
      },
      "outputs": [
        {
          "output_type": "stream",
          "name": "stdout",
          "text": [
            "Masukan Bilangan ke-1 = 4\n",
            "Masukan Bilangan ke-2 = 5\n",
            "\n",
            "Dan Hasilnya Adalah..\n",
            "\n",
            "Hasil tambahnya adalah =  9\n",
            "Hasilnya perkaliannya adalah =  20\n"
          ]
        }
      ],
      "source": [
        "bil1 = int(input('Masukan Bilangan ke-1 = '))\n",
        "bil2 = int(input('Masukan Bilangan ke-2 = '))\n",
        "print(\"\")\n",
        "print(\"Dan Hasilnya Adalah..\")\n",
        "print(\"\")\n",
        "tambah = bil1+bil2\n",
        "kali = bil1*bil2\n",
        "print(\"Hasil tambahnya adalah = \", tambah)\n",
        "print(\"Hasilnya perkaliannya adalah = \", kali)"
      ]
    },
    {
      "cell_type": "code",
      "source": [
        "r = int(input('jari jari ='))\n",
        "t = int(input('tinggi ='))\n",
        "phi = 3.14\n",
        "volume = 1/3*phi*r*2**t\n",
        "print('volume', volume)"
      ],
      "metadata": {
        "colab": {
          "base_uri": "https://localhost:8080/"
        },
        "id": "tB87R-WWXSSQ",
        "outputId": "8f3912ff-844f-411b-d724-72cf8b51cbf7"
      },
      "execution_count": 12,
      "outputs": [
        {
          "output_type": "stream",
          "name": "stdout",
          "text": [
            "jari jari =5\n",
            "tinggi =1\n",
            "volume 10.466666666666667\n"
          ]
        }
      ]
    },
    {
      "cell_type": "code",
      "source": [
        "nama = input(\"Masukan Nama Anda = \")\n",
        "jabatan = input(\"Masukan Jabatan Anda = \")\n",
        "gaji = int(input(\"Masukan Gaji Anda = \"))\n",
        "pajak = 10/100*gaji\n",
        "print()\n",
        "print(\"Pegawai dengan nama\", nama, \"dan jabatan\", jabatan, \"\\n dengan gaji\", gaji, \"harus membayar pajak sebesar\", pajak)"
      ],
      "metadata": {
        "colab": {
          "base_uri": "https://localhost:8080/"
        },
        "id": "7hIrXMSkXVvY",
        "outputId": "1398e3f4-d775-4f72-e5e5-b573c9f9b3c9"
      },
      "execution_count": 14,
      "outputs": [
        {
          "output_type": "stream",
          "name": "stdout",
          "text": [
            "Masukan Nama Anda = Devana\n",
            "Masukan Jabatan Anda = Staff\n",
            "Masukan Gaji Anda = 2000000\n",
            "\n",
            "Pegawai dengan nama Devana dan jabatan Staff \n",
            " dengan gaji 2000000 harus membayar pajak sebesar 200000.0\n"
          ]
        }
      ]
    }
  ]
}