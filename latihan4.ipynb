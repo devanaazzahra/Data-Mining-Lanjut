{
  "nbformat": 4,
  "nbformat_minor": 0,
  "metadata": {
    "colab": {
      "provenance": [],
      "authorship_tag": "ABX9TyPCZvw8QNpIAbBw5ImROygT",
      "include_colab_link": true
    },
    "kernelspec": {
      "name": "python3",
      "display_name": "Python 3"
    },
    "language_info": {
      "name": "python"
    }
  },
  "cells": [
    {
      "cell_type": "markdown",
      "metadata": {
        "id": "view-in-github",
        "colab_type": "text"
      },
      "source": [
        "<a href=\"https://colab.research.google.com/github/devanaazzahra/Data-Mining-Lanjut/blob/main/latihan4.ipynb\" target=\"_parent\"><img src=\"https://colab.research.google.com/assets/colab-badge.svg\" alt=\"Open In Colab\"/></a>"
      ]
    },
    {
      "cell_type": "code",
      "execution_count": 1,
      "metadata": {
        "colab": {
          "base_uri": "https://localhost:8080/"
        },
        "id": "UARUbIoumEi8",
        "outputId": "66323599-23ca-424a-afd6-0576f32542bc"
      },
      "outputs": [
        {
          "output_type": "stream",
          "name": "stdout",
          "text": [
            "Masukkan nilai a: 2\n",
            "Masukkan nilai b: 4\n",
            "Masukkan nilai c: 6\n",
            "C yang terbesar\n"
          ]
        }
      ],
      "source": [
        "a, b, c = (\n",
        " int(input('Masukkan nilai a: ')),\n",
        " int(input('Masukkan nilai b: ')),\n",
        " int(input('Masukkan nilai c: '))\n",
        ")\n",
        "if a > b and a > c:\n",
        " print('A yang terbesar')\n",
        "elif b > a and b > c:\n",
        " print('B yang terbesar')\n",
        "else:\n",
        " print('C yang terbesar')"
      ]
    },
    {
      "cell_type": "code",
      "source": [
        "print('Masukkan nilai awal dan nilai akhir')\n",
        "nilai_awal = int(input(' nilai awal: '))\n",
        "nilai_akhir = int(input(' nilai akhir: '))\n",
        "print(\"\"\"\\nTampilkan bilangan\n",
        "1. Ganjil\n",
        "2. Genap\"\"\")\n",
        "pilihan = int(input('Pilihan: '))\n",
        "\n",
        "if pilihan not in[1, 2]:\n",
        "  print('Pilihan salah')\n",
        "else:\n",
        "  for x in range(nilai_awal, nilai_akhir + 1):\n",
        "    if pilihan == 1 and x %2 == 1:\n",
        "      print(x, end=' ')\n",
        "    elif pilihan == 2 and x %2 == 0:\n",
        "      print(x, end=' ')\n",
        "    else:\n",
        "      print('')"
      ],
      "metadata": {
        "colab": {
          "base_uri": "https://localhost:8080/"
        },
        "id": "H0GoknmOm_s5",
        "outputId": "dc6093ca-00f5-4fb8-d9a7-4fcfc16ec81c"
      },
      "execution_count": 4,
      "outputs": [
        {
          "output_type": "stream",
          "name": "stdout",
          "text": [
            "Masukkan nilai awal dan nilai akhir\n",
            " nilai awal: 5\n",
            " nilai akhir: 7\n",
            "\n",
            "Tampilkan bilangan\n",
            "1. Ganjil\n",
            "2. Genap\n",
            "Pilihan: 1\n",
            "5 \n",
            "7 "
          ]
        }
      ]
    }
  ]
}